{
 "cells": [
  {
   "cell_type": "code",
   "execution_count": 1,
   "metadata": {},
   "outputs": [],
   "source": [
    "# Import Dependencies\n",
    "import os\n",
    "import csv"
   ]
  },
  {
   "cell_type": "code",
   "execution_count": 2,
   "metadata": {},
   "outputs": [],
   "source": [
    "# Import csv\n",
    "csvpath = os.path.join(\"election_data.csv\")\n",
    "with open(csvpath, 'r') as file_handler:\n",
    "    reader = csv.reader(file_handler)\n",
    "    header = next(reader)\n",
    "    voterid = []\n",
    "    county = []\n",
    "    candidate = []\n",
    "    for row in reader:\n",
    "        voterid.append(row[0])\n",
    "        county.append(row[1])\n",
    "        candidate.append(row[2])"
   ]
  },
  {
   "cell_type": "code",
   "execution_count": 3,
   "metadata": {},
   "outputs": [
    {
     "data": {
      "text/plain": [
       "3521001"
      ]
     },
     "execution_count": 3,
     "metadata": {},
     "output_type": "execute_result"
    }
   ],
   "source": [
    "# Calculate total votes\n",
    "totalvotes = len(voterid)\n",
    "totalvotes"
   ]
  },
  {
   "cell_type": "code",
   "execution_count": 10,
   "metadata": {},
   "outputs": [
    {
     "data": {
      "text/plain": [
       "{'Khan': 2218231, 'Correy': 704200, 'Li': 492940, \"O'Tooley\": 105630}"
      ]
     },
     "execution_count": 10,
     "metadata": {},
     "output_type": "execute_result"
    }
   ],
   "source": [
    "# Create a dictionary with each candidate and their total number of votes\n",
    "uniquecandidate = {}\n",
    "for x in candidate:\n",
    "    if x not in uniquecandidate:\n",
    "        uniquecandidate[x] = 1\n",
    "    else:\n",
    "        uniquecandidate[x] = uniquecandidate[x] + 1\n",
    "uniquecandidate"
   ]
  },
  {
   "cell_type": "code",
   "execution_count": 8,
   "metadata": {},
   "outputs": [
    {
     "name": "stdout",
     "output_type": "stream",
     "text": [
      "key: Khan, value: 2218231\n",
      "key: Correy, value: 704200\n",
      "key: Li, value: 492940\n",
      "key: O'Tooley, value: 105630\n"
     ]
    }
   ],
   "source": [
    "for x in uniquecandidate:\n",
    "    print('key: ' + x + \", value: \" + str(uniquecandidate[x]))"
   ]
  },
  {
   "cell_type": "code",
   "execution_count": 14,
   "metadata": {},
   "outputs": [
    {
     "name": "stdout",
     "output_type": "stream",
     "text": [
      "Total Votes: 3521001\n",
      "Khan: 63.0% (2218231)\n",
      "Correy: 20.0% (704200)\n",
      "Li: 14.0% (492940)\n",
      "O'Tooley: 3.0% (105630)\n",
      "Winner: Khan\n"
     ]
    }
   ],
   "source": [
    "# Calculate the percentage of total votes for each candidate\n",
    "KhanPercent = round((uniquecandidate[\"Khan\"]/totalvotes)*100,2)\n",
    "CorreyPercent = round((uniquecandidate['Correy']/totalvotes)*100,2)\n",
    "LiPercent = round((uniquecandidate['Li']/totalvotes)*100,2)\n",
    "OTooleyPercent = round((uniquecandidate[\"O'Tooley\"]/totalvotes)*100,2)\n",
    "\n",
    "print(\"Total Votes: \"+ str(totalvotes))\n",
    "print(\"Khan: \" +str(KhanPercent)+ \"% \" + \"(\" +str(uniquecandidate['Khan']) +\")\")\n",
    "print(\"Correy: \"+ str(CorreyPercent)+\"% \" + \"(\" +str(uniquecandidate['Correy']) +\")\")\n",
    "print(\"Li: \" + str(LiPercent)+ \"% \" +\"(\" +str(uniquecandidate['Li']) +\")\")\n",
    "print(\"O'Tooley: \" + str(OTooleyPercent) + \"% \" +\"(\" +str(uniquecandidate[\"O'Tooley\"]) +\")\")\n",
    "print(\"Winner: Khan\")"
   ]
  },
  {
   "cell_type": "code",
   "execution_count": 15,
   "metadata": {},
   "outputs": [],
   "source": [
    "# Export data analysis to txtfile\n",
    "with open(\"poll_data.txt\",\"w\", newline=\"\") as txtfile:\n",
    "    print(\"Total Votes: \"+ str(totalvotes),file = txtfile)\n",
    "    print(\"Khan: \" +str(KhanPercent)+ \"% \" + \"(\" +str(uniquecandidate['Khan']) +\")\",file = txtfile)\n",
    "    print(\"Correy: \"+ str(CorreyPercent)+\"% \" + \"(\" +str(uniquecandidate['Correy']) +\")\",file = txtfile)\n",
    "    print(\"Li: \" + str(LiPercent)+ \"% \" +\"(\" +str(uniquecandidate['Li']) +\")\",file = txtfile)\n",
    "    print(\"O'Tooley: \" + str(OTooleyPercent) + \"% \" +\"(\" +str(uniquecandidate[\"O'Tooley\"]) +\")\",file = txtfile)\n",
    "    print(\"Winner: \",file = txtfile)"
   ]
  },
  {
   "cell_type": "code",
   "execution_count": null,
   "metadata": {},
   "outputs": [],
   "source": []
  }
 ],
 "metadata": {
  "kernelspec": {
   "display_name": "Python 3",
   "language": "python",
   "name": "python3"
  },
  "language_info": {
   "codemirror_mode": {
    "name": "ipython",
    "version": 3
   },
   "file_extension": ".py",
   "mimetype": "text/x-python",
   "name": "python",
   "nbconvert_exporter": "python",
   "pygments_lexer": "ipython3",
   "version": "3.7.3"
  }
 },
 "nbformat": 4,
 "nbformat_minor": 2
}
