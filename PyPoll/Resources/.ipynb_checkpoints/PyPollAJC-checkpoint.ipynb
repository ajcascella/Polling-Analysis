{
 "cells": [
  {
   "cell_type": "code",
   "execution_count": 2,
   "metadata": {},
   "outputs": [],
   "source": [
    "import os\n",
    "import csv"
   ]
  },
  {
   "cell_type": "code",
   "execution_count": 3,
   "metadata": {},
   "outputs": [],
   "source": [
    "csvpath = os.path.join(\"election_data.csv\")\n",
    "with open(csvpath, 'r') as file_handler:\n",
    "    reader = csv.reader(file_handler)\n",
    "    header = next(reader)\n",
    "    voterid = []\n",
    "    county = []\n",
    "    candidate = []\n",
    "    for row in reader:\n",
    "        voterid.append(row[0])\n",
    "        county.append(row[1])\n",
    "        candidate.append(row[2])"
   ]
  },
  {
   "cell_type": "code",
   "execution_count": 4,
   "metadata": {},
   "outputs": [
    {
     "name": "stdout",
     "output_type": "stream",
     "text": [
      "3521001\n"
     ]
    }
   ],
   "source": [
    "print(len(voterid))"
   ]
  },
  {
   "cell_type": "code",
   "execution_count": 5,
   "metadata": {},
   "outputs": [
    {
     "name": "stdout",
     "output_type": "stream",
     "text": [
      "3521001\n"
     ]
    }
   ],
   "source": [
    "totalvotes = len(voterid)\n",
    "print(totalvotes)"
   ]
  },
  {
   "cell_type": "code",
   "execution_count": 10,
   "metadata": {},
   "outputs": [],
   "source": [
    "uniquecandidate = []\n",
    "for x in candidate:\n",
    "    if x not in uniquecandidate:\n",
    "        uniquecandidate.append(x)"
   ]
  },
  {
   "cell_type": "code",
   "execution_count": 11,
   "metadata": {},
   "outputs": [
    {
     "name": "stdout",
     "output_type": "stream",
     "text": [
      "['Khan', 'Correy', 'Li', \"O'Tooley\"]\n"
     ]
    }
   ],
   "source": [
    "print(uniquecandidate)"
   ]
  },
  {
   "cell_type": "code",
   "execution_count": 12,
   "metadata": {},
   "outputs": [
    {
     "name": "stdout",
     "output_type": "stream",
     "text": [
      "[2218231, 704200, 492940, 105630]\n"
     ]
    }
   ],
   "source": [
    "totalList = []\n",
    "KhanTotal = 0\n",
    "CorreyTotal = 0\n",
    "LiTotal = 0\n",
    "OTooleyTotal = 0\n",
    "\n",
    "for i in candidate:\n",
    "    if i == \"Khan\":\n",
    "        KhanTotal = KhanTotal +1\n",
    "    elif i == \"Correy\":\n",
    "        CorreyTotal = CorreyTotal + 1\n",
    "    elif i == \"Li\":\n",
    "        LiTotal = LiTotal + 1\n",
    "    elif i == \"O'Tooley\":\n",
    "        OTooleyTotal = OTooleyTotal + 1\n",
    "    totalList = [KhanTotal, CorreyTotal, LiTotal, OTooleyTotal]\n",
    "print(totalList)"
   ]
  },
  {
   "cell_type": "code",
   "execution_count": 15,
   "metadata": {
    "scrolled": true
   },
   "outputs": [
    {
     "ename": "AttributeError",
     "evalue": "'list' object has no attribute 'max'",
     "output_type": "error",
     "traceback": [
      "\u001b[0;31m---------------------------------------------------------------------------\u001b[0m",
      "\u001b[0;31mAttributeError\u001b[0m                            Traceback (most recent call last)",
      "\u001b[0;32m<ipython-input-15-37f3d1016ee8>\u001b[0m in \u001b[0;36m<module>\u001b[0;34m\u001b[0m\n\u001b[0;32m----> 1\u001b[0;31m \u001b[0mtotalList\u001b[0m\u001b[0;34m.\u001b[0m\u001b[0mmax\u001b[0m\u001b[0;34m(\u001b[0m\u001b[0;34m)\u001b[0m\u001b[0;34m\u001b[0m\u001b[0;34m\u001b[0m\u001b[0m\n\u001b[0m",
      "\u001b[0;31mAttributeError\u001b[0m: 'list' object has no attribute 'max'"
     ]
    }
   ],
   "source": []
  },
  {
   "cell_type": "code",
   "execution_count": 17,
   "metadata": {},
   "outputs": [
    {
     "name": "stdout",
     "output_type": "stream",
     "text": [
      "Total Votes: 3521001\n",
      "Khan: 63.00001050837531(2218231)\n",
      "Correy: 19.999994319797125(704200)\n",
      "Li: 13.999996023857989(492940)\n",
      "O'Tooley: 2.999999147969569(105630)\n",
      "Winner: 2218231\n"
     ]
    }
   ],
   "source": [
    "KhanPercent = (KhanTotal/totalvotes)*100\n",
    "CorreyPercent = (CorreyTotal/totalvotes)*100\n",
    "LiPercent = (LiTotal/totalvotes)*100\n",
    "OTooleyPercent = (OTooleyTotal/totalvotes)*100\n",
    "\n",
    "print(\"Total Votes: \"+ str(totalvotes))\n",
    "print(\"Khan: \" +str(KhanPercent)+ \"(\" +str(KhanTotal) +\")\")\n",
    "print(\"Correy: \"+ str(CorreyPercent)+ \"(\" +str(CorreyTotal) +\")\")\n",
    "print(\"Li: \" + str(LiPercent)+ \"(\" +str(LiTotal) +\")\")\n",
    "print(\"O'Tooley: \" + str(OTooleyPercent) + \"(\" +str(OTooleyTotal) +\")\")\n",
    "print(\"Winner: \" + str(max(totalList)))"
   ]
  },
  {
   "cell_type": "code",
   "execution_count": null,
   "metadata": {},
   "outputs": [],
   "source": []
  },
  {
   "cell_type": "code",
   "execution_count": null,
   "metadata": {},
   "outputs": [],
   "source": []
  }
 ],
 "metadata": {
  "kernelspec": {
   "display_name": "Python 3",
   "language": "python",
   "name": "python3"
  },
  "language_info": {
   "codemirror_mode": {
    "name": "ipython",
    "version": 3
   },
   "file_extension": ".py",
   "mimetype": "text/x-python",
   "name": "python",
   "nbconvert_exporter": "python",
   "pygments_lexer": "ipython3",
   "version": "3.7.3"
  }
 },
 "nbformat": 4,
 "nbformat_minor": 2
}
