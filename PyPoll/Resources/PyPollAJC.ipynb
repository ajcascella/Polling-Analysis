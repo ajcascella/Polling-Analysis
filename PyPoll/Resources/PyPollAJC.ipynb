{
 "cells": [
  {
   "cell_type": "code",
   "execution_count": 113,
   "metadata": {},
   "outputs": [],
   "source": [
    "import os\n",
    "import csv"
   ]
  },
  {
   "cell_type": "code",
   "execution_count": 114,
   "metadata": {},
   "outputs": [],
   "source": [
    "csvpath = os.path.join(\"election_data.csv\")\n",
    "with open(csvpath, 'r') as file_handler:\n",
    "    reader = csv.reader(file_handler)\n",
    "    header = next(reader)\n",
    "    voterid = []\n",
    "    county = []\n",
    "    candidate = []\n",
    "    for row in reader:\n",
    "        voterid.append(row[0])\n",
    "        county.append(row[1])\n",
    "        candidate.append(row[2])"
   ]
  },
  {
   "cell_type": "code",
   "execution_count": 115,
   "metadata": {},
   "outputs": [
    {
     "name": "stdout",
     "output_type": "stream",
     "text": [
      "3521001\n"
     ]
    }
   ],
   "source": [
    "print(len(voterid))"
   ]
  },
  {
   "cell_type": "code",
   "execution_count": 116,
   "metadata": {},
   "outputs": [
    {
     "name": "stdout",
     "output_type": "stream",
     "text": [
      "3521001\n"
     ]
    }
   ],
   "source": [
    "totalvotes = len(voterid)\n",
    "print(totalvotes)"
   ]
  },
  {
   "cell_type": "code",
   "execution_count": 117,
   "metadata": {},
   "outputs": [],
   "source": [
    "uniquecandidate = []\n",
    "for x in candidate:\n",
    "    if x not in uniquecandidate:\n",
    "        uniquecandidate.append(x)"
   ]
  },
  {
   "cell_type": "code",
   "execution_count": 118,
   "metadata": {},
   "outputs": [
    {
     "name": "stdout",
     "output_type": "stream",
     "text": [
      "['Khan', 'Correy', 'Li', \"O'Tooley\"]\n"
     ]
    }
   ],
   "source": [
    "print(uniquecandidate)"
   ]
  },
  {
   "cell_type": "code",
   "execution_count": 119,
   "metadata": {},
   "outputs": [
    {
     "name": "stdout",
     "output_type": "stream",
     "text": [
      "2218231 704200 492940 105630\n"
     ]
    }
   ],
   "source": [
    "KhanTotal = 0\n",
    "CorreyTotal = 0\n",
    "LiTotal = 0\n",
    "OTooleyTotal = 0\n",
    "\n",
    "for i in candidate:\n",
    "    if i == \"Khan\":\n",
    "        KhanTotal = KhanTotal +1\n",
    "    elif i == \"Correy\":\n",
    "        CorreyTotal = CorreyTotal + 1\n",
    "    elif i == \"Li\":\n",
    "        LiTotal = LiTotal + 1\n",
    "    elif i == \"O'Tooley\":\n",
    "        OTooleyTotal = OTooleyTotal + 1\n",
    "print(KhanTotal, CorreyTotal, LiTotal, OTooleyTotal)"
   ]
  },
  {
   "cell_type": "code",
   "execution_count": 125,
   "metadata": {},
   "outputs": [
    {
     "name": "stdout",
     "output_type": "stream",
     "text": [
      "Total Votes: 3521001\n",
      "Khan: 63.00001050837531(2218231)\n",
      "Correy: 19.999994319797125(704200)\n",
      "Li: 13.999996023857989(492940)\n",
      "O'Tooley: 2.999999147969569(105630)\n",
      "Winner: Khan\n"
     ]
    }
   ],
   "source": [
    "KhanPercent = (KhanTotal/totalvotes)*100\n",
    "CorreyPercent = (CorreyTotal/totalvotes)*100\n",
    "LiPercent = (LiTotal/totalvotes)*100\n",
    "OTooleyPercent = (OTooleyTotal/totalvotes)*100\n",
    "\n",
    "print(\"Total Votes: \"+ str(totalvotes))\n",
    "print(\"Khan: \" +str(KhanPercent)+ \"(\" +str(KhanTotal) +\")\")\n",
    "print(\"Correy: \"+ str(CorreyPercent)+ \"(\" +str(CorreyTotal) +\")\")\n",
    "print(\"Li: \" + str(LiPercent)+ \"(\" +str(LiTotal) +\")\")\n",
    "print(\"O'Tooley: \" + str(OTooleyPercent) + \"(\" +str(OTooleyTotal) +\")\")\n",
    "print(\"Winner: Khan\")"
   ]
  },
  {
   "cell_type": "code",
   "execution_count": null,
   "metadata": {},
   "outputs": [],
   "source": []
  }
 ],
 "metadata": {
  "kernelspec": {
   "display_name": "Python 3",
   "language": "python",
   "name": "python3"
  },
  "language_info": {
   "codemirror_mode": {
    "name": "ipython",
    "version": 3
   },
   "file_extension": ".py",
   "mimetype": "text/x-python",
   "name": "python",
   "nbconvert_exporter": "python",
   "pygments_lexer": "ipython3",
   "version": "3.7.3"
  }
 },
 "nbformat": 4,
 "nbformat_minor": 2
}
