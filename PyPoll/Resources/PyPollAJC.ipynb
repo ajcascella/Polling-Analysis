{
 "cells": [
  {
   "cell_type": "code",
   "execution_count": 2,
   "metadata": {},
   "outputs": [],
   "source": [
    "import os\n",
    "import csv"
   ]
  },
  {
   "cell_type": "code",
   "execution_count": 3,
   "metadata": {},
   "outputs": [],
   "source": [
    "csvpath = os.path.join(\"election_data.csv\")\n",
    "with open(csvpath, 'r') as file_handler:\n",
    "    reader = csv.reader(file_handler)\n",
    "    header = next(reader)\n",
    "    voterid = []\n",
    "    county = []\n",
    "    candidate = []\n",
    "    for row in reader:\n",
    "        voterid.append(row[0])\n",
    "        county.append(row[1])\n",
    "        candidate.append(row[2])"
   ]
  },
  {
   "cell_type": "code",
   "execution_count": 4,
   "metadata": {},
   "outputs": [
    {
     "name": "stdout",
     "output_type": "stream",
     "text": [
      "3521001\n"
     ]
    }
   ],
   "source": [
    "print(len(voterid))"
   ]
  },
  {
   "cell_type": "code",
   "execution_count": 5,
   "metadata": {},
   "outputs": [
    {
     "name": "stdout",
     "output_type": "stream",
     "text": [
      "3521001\n"
     ]
    }
   ],
   "source": [
    "totalvotes = len(voterid)\n",
    "print(totalvotes)"
   ]
  },
  {
   "cell_type": "code",
   "execution_count": 18,
   "metadata": {},
   "outputs": [],
   "source": [
    "uniquecandidate = {}\n",
    "for x in candidate:\n",
    "    if x not in uniquecandidate:\n",
    "        uniquecandidate[x] = 1\n",
    "    else:\n",
    "        uniquecandidate[x] = uniquecandidate[x] + 1"
   ]
  },
  {
   "cell_type": "code",
   "execution_count": 19,
   "metadata": {},
   "outputs": [
    {
     "name": "stdout",
     "output_type": "stream",
     "text": [
      "{'Khan': 2218231, 'Correy': 704200, 'Li': 492940, \"O'Tooley\": 105630}\n"
     ]
    }
   ],
   "source": [
    "print(uniquecandidate)"
   ]
  },
  {
   "cell_type": "code",
   "execution_count": 22,
   "metadata": {},
   "outputs": [
    {
     "name": "stdout",
     "output_type": "stream",
     "text": [
      "key: Khan, value: 2218231\n",
      "key: Correy, value: 704200\n",
      "key: Li, value: 492940\n",
      "key: O'Tooley, value: 105630\n"
     ]
    }
   ],
   "source": [
    "for x in uniquecandidate:\n",
    "    print('key: ' + x + \", value: \" + str(uniquecandidate[x]))"
   ]
  },
  {
   "cell_type": "code",
   "execution_count": 21,
   "metadata": {},
   "outputs": [
    {
     "data": {
      "text/plain": [
       "2218231"
      ]
     },
     "execution_count": 21,
     "metadata": {},
     "output_type": "execute_result"
    }
   ],
   "source": [
    "uniquecandidate['Khan']"
   ]
  },
  {
   "cell_type": "code",
   "execution_count": 17,
   "metadata": {},
   "outputs": [
    {
     "name": "stdout",
     "output_type": "stream",
     "text": [
      "Total Votes: 3521001\n",
      "Khan: 63.00001050837531(2218231)\n",
      "Correy: 19.999994319797125(704200)\n",
      "Li: 13.999996023857989(492940)\n",
      "O'Tooley: 2.999999147969569(105630)\n",
      "Winner: 2218231\n"
     ]
    }
   ],
   "source": [
    "KhanPercent = (KhanTotal/totalvotes)*100\n",
    "CorreyPercent = (CorreyTotal/totalvotes)*100\n",
    "LiPercent = (LiTotal/totalvotes)*100\n",
    "OTooleyPercent = (OTooleyTotal/totalvotes)*100\n",
    "\n",
    "print(\"Total Votes: \"+ str(totalvotes))\n",
    "print(\"Khan: \" +str(KhanPercent)+ \"(\" +str(KhanTotal) +\")\")\n",
    "print(\"Correy: \"+ str(CorreyPercent)+ \"(\" +str(CorreyTotal) +\")\")\n",
    "print(\"Li: \" + str(LiPercent)+ \"(\" +str(LiTotal) +\")\")\n",
    "print(\"O'Tooley: \" + str(OTooleyPercent) + \"(\" +str(OTooleyTotal) +\")\")\n",
    "print(\"Winner: \" + str(max(totalList)))"
   ]
  },
  {
   "cell_type": "code",
   "execution_count": null,
   "metadata": {},
   "outputs": [],
   "source": []
  },
  {
   "cell_type": "code",
   "execution_count": null,
   "metadata": {},
   "outputs": [],
   "source": []
  }
 ],
 "metadata": {
  "kernelspec": {
   "display_name": "Python 3",
   "language": "python",
   "name": "python3"
  },
  "language_info": {
   "codemirror_mode": {
    "name": "ipython",
    "version": 3
   },
   "file_extension": ".py",
   "mimetype": "text/x-python",
   "name": "python",
   "nbconvert_exporter": "python",
   "pygments_lexer": "ipython3",
   "version": "3.7.3"
  }
 },
 "nbformat": 4,
 "nbformat_minor": 2
}
