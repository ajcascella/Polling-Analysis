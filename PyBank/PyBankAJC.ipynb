{
 "cells": [
  {
   "cell_type": "code",
   "execution_count": 82,
   "metadata": {},
   "outputs": [],
   "source": [
    "import os\n",
    "import csv"
   ]
  },
  {
   "cell_type": "code",
   "execution_count": 83,
   "metadata": {},
   "outputs": [],
   "source": [
    "csvpath = os.path.join(\"Resources\",\"budget_data.csv\")"
   ]
  },
  {
   "cell_type": "code",
   "execution_count": 84,
   "metadata": {},
   "outputs": [],
   "source": [
    "with open(csvpath, 'r') as file_handler:\n",
    "    reader = csv.reader(file_handler)\n",
    "    header = next(reader)\n",
    "    dateList = []\n",
    "    moneyList = []\n",
    "    for row in reader:\n",
    "        dateList.append(row[0])\n",
    "        moneyList.append(row[1])"
   ]
  },
  {
   "cell_type": "code",
   "execution_count": 85,
   "metadata": {},
   "outputs": [
    {
     "data": {
      "text/plain": [
       "86"
      ]
     },
     "execution_count": 85,
     "metadata": {},
     "output_type": "execute_result"
    }
   ],
   "source": [
    "totalmonths = (len(dateList))\n",
    "totalmonths"
   ]
  },
  {
   "cell_type": "code",
   "execution_count": 86,
   "metadata": {},
   "outputs": [
    {
     "data": {
      "text/plain": [
       "['867884',\n",
       " '984655',\n",
       " '322013',\n",
       " '-69417',\n",
       " '310503',\n",
       " '522857',\n",
       " '1033096',\n",
       " '604885',\n",
       " '-216386',\n",
       " '477532',\n",
       " '893810',\n",
       " '-80353',\n",
       " '779806',\n",
       " '-335203',\n",
       " '697845',\n",
       " '793163',\n",
       " '485070',\n",
       " '584122',\n",
       " '62729',\n",
       " '668179',\n",
       " '899906',\n",
       " '834719',\n",
       " '132003',\n",
       " '309978',\n",
       " '-755566',\n",
       " '1170593',\n",
       " '252788',\n",
       " '1151518',\n",
       " '817256',\n",
       " '570757',\n",
       " '506702',\n",
       " '-1022534',\n",
       " '475062',\n",
       " '779976',\n",
       " '144175',\n",
       " '542494',\n",
       " '359333',\n",
       " '321469',\n",
       " '67780',\n",
       " '471435',\n",
       " '565603',\n",
       " '872480',\n",
       " '789480',\n",
       " '999942',\n",
       " '-1196225',\n",
       " '268997',\n",
       " '-687986',\n",
       " '1150461',\n",
       " '682458',\n",
       " '617856',\n",
       " '824098',\n",
       " '581943',\n",
       " '132864',\n",
       " '448062',\n",
       " '689161',\n",
       " '800701',\n",
       " '1166643',\n",
       " '947333',\n",
       " '578668',\n",
       " '988505',\n",
       " '1139715',\n",
       " '1029471',\n",
       " '687533',\n",
       " '-524626',\n",
       " '158620',\n",
       " '87795',\n",
       " '423389',\n",
       " '840723',\n",
       " '568529',\n",
       " '332067',\n",
       " '989499',\n",
       " '778237',\n",
       " '650000',\n",
       " '-1100387',\n",
       " '-174946',\n",
       " '757143',\n",
       " '445709',\n",
       " '712961',\n",
       " '-1163797',\n",
       " '569899',\n",
       " '768450',\n",
       " '102685',\n",
       " '795914',\n",
       " '60988',\n",
       " '138230',\n",
       " '671099']"
      ]
     },
     "execution_count": 86,
     "metadata": {},
     "output_type": "execute_result"
    }
   ],
   "source": [
    "moneyList"
   ]
  },
  {
   "cell_type": "code",
   "execution_count": 87,
   "metadata": {},
   "outputs": [],
   "source": [
    "for i in range(0, len(moneyList)):\n",
    "    moneyList[i] = int(moneyList[i])"
   ]
  },
  {
   "cell_type": "code",
   "execution_count": 88,
   "metadata": {},
   "outputs": [
    {
     "data": {
      "text/plain": [
       "38382578"
      ]
     },
     "execution_count": 88,
     "metadata": {},
     "output_type": "execute_result"
    }
   ],
   "source": [
    "nettotal = sum(moneyList)\n",
    "nettotal"
   ]
  },
  {
   "cell_type": "code",
   "execution_count": 129,
   "metadata": {},
   "outputs": [
    {
     "name": "stdout",
     "output_type": "stream",
     "text": [
      "[116771, -662642, -391430, 379920, 212354, 510239, -428211, -821271, 693918, 416278, -974163, 860159, -1115009, 1033048, 95318, -308093, 99052, -521393, 605450, 231727, -65187, -702716, 177975, -1065544, 1926159, -917805, 898730, -334262, -246499, -64055, -1529236, 1497596, 304914, -635801, 398319, -183161, -37864, -253689, 403655, 94168, 306877, -83000, 210462, -2196167, 1465222, -956983, 1838447, -468003, -64602, 206242, -242155, -449079, 315198, 241099, 111540, 365942, -219310, -368665, 409837, 151210, -110244, -341938, -1212159, 683246, -70825, 335594, 417334, -272194, -236462, 657432, -211262, -128237, -1750387, 925441, 932089, -311434, 267252, -1876758, 1733696, 198551, -665765, 693229, -734926, 77242, 532869]\n"
     ]
    }
   ],
   "source": [
    "changeList = []\n",
    "for i in range (0, len(moneyList)-1):\n",
    "    change = moneyList[i+1] - moneyList[i]\n",
    "    changeList.append(change)\n",
    "print(changeList)"
   ]
  },
  {
   "cell_type": "code",
   "execution_count": 130,
   "metadata": {},
   "outputs": [
    {
     "data": {
      "text/plain": [
       "85"
      ]
     },
     "execution_count": 130,
     "metadata": {},
     "output_type": "execute_result"
    }
   ],
   "source": [
    "len(changeList)"
   ]
  },
  {
   "cell_type": "code",
   "execution_count": 131,
   "metadata": {},
   "outputs": [
    {
     "data": {
      "text/plain": [
       "-2315.12"
      ]
     },
     "execution_count": 131,
     "metadata": {},
     "output_type": "execute_result"
    }
   ],
   "source": [
    "changeListAv = round(sum(changeList)/len(changeList),2)\n",
    "changeListAv"
   ]
  },
  {
   "cell_type": "code",
   "execution_count": 132,
   "metadata": {},
   "outputs": [],
   "source": [
    "for i in range(len(changeList)):\n",
    "    if (changeList[i] == max(changeList)):\n",
    "        maxchangedate = (dateList[i+1],max(changeList))\n",
    "greatestincrease = str(\"Greatest Increase in Profits: \" + str(maxchangedate))"
   ]
  },
  {
   "cell_type": "code",
   "execution_count": 133,
   "metadata": {},
   "outputs": [],
   "source": [
    "for i in range(len(changeList)):\n",
    "    if (changeList[i] == min(changeList)):\n",
    "        minchangedate = (dateList[i+1],min(changeList))\n",
    "greatestdecrease = str(\"Greatest Decrease in Profits: \" + str(minchangedate))"
   ]
  },
  {
   "cell_type": "code",
   "execution_count": 134,
   "metadata": {},
   "outputs": [
    {
     "name": "stdout",
     "output_type": "stream",
     "text": [
      "Financial Analysis\n",
      "______________________________ \n",
      "\n",
      "Total Months: 86\n",
      "Total Net Profits & Losses: $38382578.00\n",
      "Average Change: $-2315.12\n",
      "Greatest Increase in Profits: ('Feb-2012', 1926159)\n",
      "Greatest Decrease in Profits: ('Sep-2013', -2196167)\n"
     ]
    }
   ],
   "source": [
    "print(f\"Financial Analysis\\n\"\n",
    "     \"______________________________ \\n\")\n",
    "print(\"Total Months: \" + str(totalmonths))\n",
    "print(\"Total Net Profits & Losses: \" + \"$\"+ str(nettotal)+\".00\")\n",
    "print(\"Average Change: \" + \"$\"+ str(changeListAv))\n",
    "print(greatestincrease)\n",
    "print(greatestdecrease)"
   ]
  },
  {
   "cell_type": "code",
   "execution_count": 135,
   "metadata": {},
   "outputs": [],
   "source": [
    "with open(\"budget_data.txt\",\"w\", newline=\"\") as txtfile:\n",
    "    print(f\"Financial Analysis\\n\"\n",
    "     \"______________________________ \\n\",file = txtfile)\n",
    "    print(\"Total Months: \" + str(totalmonths),file = txtfile)\n",
    "    print(\"Total Net Profits & Losses: \" + \"$\"+ str(nettotal) +\".00\",file = txtfile)\n",
    "    print(\"Average Change: \" + \"$\"+ str(changeListAv),file = txtfile)\n",
    "    print(greatestincrease,file = txtfile)\n",
    "    print(greatestdecrease,file = txtfile)"
   ]
  },
  {
   "cell_type": "code",
   "execution_count": null,
   "metadata": {},
   "outputs": [],
   "source": []
  }
 ],
 "metadata": {
  "kernelspec": {
   "display_name": "Python 3",
   "language": "python",
   "name": "python3"
  },
  "language_info": {
   "codemirror_mode": {
    "name": "ipython",
    "version": 3
   },
   "file_extension": ".py",
   "mimetype": "text/x-python",
   "name": "python",
   "nbconvert_exporter": "python",
   "pygments_lexer": "ipython3",
   "version": "3.7.3"
  }
 },
 "nbformat": 4,
 "nbformat_minor": 2
}
