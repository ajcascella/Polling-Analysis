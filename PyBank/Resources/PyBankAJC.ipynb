{
 "cells": [
  {
   "cell_type": "code",
   "execution_count": 543,
   "metadata": {},
   "outputs": [],
   "source": [
    "import os\n",
    "import csv"
   ]
  },
  {
   "cell_type": "code",
   "execution_count": 546,
   "metadata": {},
   "outputs": [],
   "source": [
    "csvpath = os.path.join(\"Resources\",\"budget_data.csv\")"
   ]
  },
  {
   "cell_type": "code",
   "execution_count": 547,
   "metadata": {},
   "outputs": [],
   "source": [
    "with open(csvpath, 'r') as file_handler:\n",
    "    reader = csv.reader(file_handler)\n",
    "    header = next(reader)\n",
    "    dateList = []\n",
    "    moneyList = []\n",
    "    for row in reader:\n",
    "        dateList.append(row[0])\n",
    "        moneyList.append(row[1])"
   ]
  },
  {
   "cell_type": "code",
   "execution_count": 548,
   "metadata": {},
   "outputs": [
    {
     "data": {
      "text/plain": [
       "86"
      ]
     },
     "execution_count": 548,
     "metadata": {},
     "output_type": "execute_result"
    }
   ],
   "source": [
    "totalmonths = (len(dateList))\n",
    "totalmonths"
   ]
  },
  {
   "cell_type": "code",
   "execution_count": 549,
   "metadata": {},
   "outputs": [],
   "source": [
    "for i in range(0, len(moneyList)):\n",
    "    moneyList[i] = int(moneyList[i])"
   ]
  },
  {
   "cell_type": "code",
   "execution_count": 550,
   "metadata": {},
   "outputs": [
    {
     "data": {
      "text/plain": [
       "38382578"
      ]
     },
     "execution_count": 550,
     "metadata": {},
     "output_type": "execute_result"
    }
   ],
   "source": [
    "nettotal = sum(moneyList)\n",
    "nettotal"
   ]
  },
  {
   "cell_type": "code",
   "execution_count": 551,
   "metadata": {},
   "outputs": [
    {
     "name": "stdout",
     "output_type": "stream",
     "text": [
      "[0, 116771, -662642, -391430, 379920, 212354, 510239, -428211, -821271, 693918, 416278, -974163, 860159, -1115009, 1033048, 95318, -308093, 99052, -521393, 605450, 231727, -65187, -702716, 177975, -1065544, 1926159, -917805, 898730, -334262, -246499, -64055, -1529236, 1497596, 304914, -635801, 398319, -183161, -37864, -253689, 403655, 94168, 306877, -83000, 210462, -2196167, 1465222, -956983, 1838447, -468003, -64602, 206242, -242155, -449079, 315198, 241099, 111540, 365942, -219310, -368665, 409837, 151210, -110244, -341938, -1212159, 683246, -70825, 335594, 417334, -272194, -236462, 657432, -211262, -128237, -1750387, 925441, 932089, -311434, 267252, -1876758, 1733696, 198551, -665765, 693229, -734926, 77242, 532869]\n"
     ]
    }
   ],
   "source": [
    "changeList = []\n",
    "changeList.append(0)\n",
    "for i in range (0,len(moneyList)-1):\n",
    "    change = moneyList[i+1] - (moneyList[i])\n",
    "    changeList.append(change)\n",
    "print(changeList)"
   ]
  },
  {
   "cell_type": "code",
   "execution_count": 552,
   "metadata": {},
   "outputs": [
    {
     "data": {
      "text/plain": [
       "-2288.2"
      ]
     },
     "execution_count": 552,
     "metadata": {},
     "output_type": "execute_result"
    }
   ],
   "source": [
    "changeListAv = round(sum(changeList)/len(changeList),2)\n",
    "changeListAv"
   ]
  },
  {
   "cell_type": "code",
   "execution_count": 553,
   "metadata": {},
   "outputs": [
    {
     "name": "stdout",
     "output_type": "stream",
     "text": [
      "Greatest Increase in Profits: ('Feb-2012', 1926159)\n"
     ]
    }
   ],
   "source": [
    "for i in range(0,len(changeList)):\n",
    "    if (changeList[i] == max(changeList)):\n",
    "        maxchangedate = (dateList[i],max(changeList))\n",
    "greatestincrease = str(print(\"Greatest Increase in Profits: \" + str(maxchangedate)))"
   ]
  },
  {
   "cell_type": "code",
   "execution_count": 554,
   "metadata": {},
   "outputs": [
    {
     "name": "stdout",
     "output_type": "stream",
     "text": [
      "Greatest Decrease in Profits: ('Sep-2013', -2196167)\n"
     ]
    }
   ],
   "source": [
    "for i in range(0,len(changeList)):\n",
    "    if (changeList[i] == min(changeList)):\n",
    "        minchangedate = (dateList[i],min(changeList))\n",
    "greatestdecrease = str(print(\"Greatest Decrease in Profits: \" + str(minchangedate)))"
   ]
  },
  {
   "cell_type": "code",
   "execution_count": 555,
   "metadata": {},
   "outputs": [
    {
     "name": "stdout",
     "output_type": "stream",
     "text": [
      "Financial Analysis\n",
      "______________________________ \n",
      "\n",
      "Total Months: 86\n",
      "Total Net Profits & Losses: $38382578\n",
      "Average Change: $-2288.2\n"
     ]
    }
   ],
   "source": [
    "print(f\"Financial Analysis\\n\"\n",
    "     \"______________________________ \\n\")\n",
    "print(\"Total Months: \" + str(totalmonths))\n",
    "print(\"Total Net Profits & Losses: \" + \"$\"+ str(nettotal))\n",
    "print(\"Average Change: \" + \"$\"+ str(changeListAv))"
   ]
  }
 ],
 "metadata": {
  "kernelspec": {
   "display_name": "Python 3",
   "language": "python",
   "name": "python3"
  },
  "language_info": {
   "codemirror_mode": {
    "name": "ipython",
    "version": 3
   },
   "file_extension": ".py",
   "mimetype": "text/x-python",
   "name": "python",
   "nbconvert_exporter": "python",
   "pygments_lexer": "ipython3",
   "version": "3.7.3"
  }
 },
 "nbformat": 4,
 "nbformat_minor": 2
}
