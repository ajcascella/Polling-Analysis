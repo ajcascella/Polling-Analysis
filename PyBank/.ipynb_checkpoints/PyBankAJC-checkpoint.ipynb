{
 "cells": [
  {
   "cell_type": "code",
   "execution_count": 9,
   "metadata": {},
   "outputs": [],
   "source": [
    "# Import Dependencies\n",
    "import os\n",
    "import csv"
   ]
  },
  {
   "cell_type": "code",
   "execution_count": 10,
   "metadata": {},
   "outputs": [],
   "source": [
    "# Import csv\n",
    "csvpath = os.path.join(\"Resources\",\"budget_data.csv\")\n",
    "with open(csvpath, 'r') as file_handler:\n",
    "    reader = csv.reader(file_handler)\n",
    "    header = next(reader)\n",
    "    dateList = []\n",
    "    moneyList = []\n",
    "    for row in reader:\n",
    "        dateList.append(row[0])\n",
    "        moneyList.append(row[1])"
   ]
  },
  {
   "cell_type": "code",
   "execution_count": 11,
   "metadata": {},
   "outputs": [
    {
     "data": {
      "text/plain": [
       "86"
      ]
     },
     "execution_count": 11,
     "metadata": {},
     "output_type": "execute_result"
    }
   ],
   "source": [
    "# Calculate total months\n",
    "totalmonths = (len(dateList))\n",
    "totalmonths"
   ]
  },
  {
   "cell_type": "code",
   "execution_count": 13,
   "metadata": {},
   "outputs": [
    {
     "data": {
      "text/plain": [
       "str"
      ]
     },
     "execution_count": 13,
     "metadata": {},
     "output_type": "execute_result"
    }
   ],
   "source": [
    "# Assess data type for data in Money List\n",
    "type(moneyList[0])"
   ]
  },
  {
   "cell_type": "code",
   "execution_count": 15,
   "metadata": {},
   "outputs": [],
   "source": [
    "# Convert Money List values into integers\n",
    "for i in range(0, len(moneyList)):\n",
    "    moneyList[i] = int(moneyList[i])"
   ]
  },
  {
   "cell_type": "code",
   "execution_count": 16,
   "metadata": {},
   "outputs": [
    {
     "data": {
      "text/plain": [
       "38382578"
      ]
     },
     "execution_count": 16,
     "metadata": {},
     "output_type": "execute_result"
    }
   ],
   "source": [
    "# Calculate sum of Money List\n",
    "nettotal = sum(moneyList)\n",
    "nettotal"
   ]
  },
  {
   "cell_type": "code",
   "execution_count": 18,
   "metadata": {},
   "outputs": [
    {
     "name": "stdout",
     "output_type": "stream",
     "text": [
      "[116771, -662642, -391430, 379920, 212354, 510239, -428211, -821271, 693918, 416278, -974163, 860159, -1115009, 1033048, 95318, -308093, 99052, -521393, 605450, 231727, -65187, -702716, 177975, -1065544, 1926159, -917805, 898730, -334262, -246499, -64055, -1529236, 1497596, 304914, -635801, 398319, -183161, -37864, -253689, 403655, 94168, 306877, -83000, 210462, -2196167, 1465222, -956983, 1838447, -468003, -64602, 206242, -242155, -449079, 315198, 241099, 111540, 365942, -219310, -368665, 409837, 151210, -110244, -341938, -1212159, 683246, -70825, 335594, 417334, -272194, -236462, 657432, -211262, -128237, -1750387, 925441, 932089, -311434, 267252, -1876758, 1733696, 198551, -665765, 693229, -734926, 77242, 532869]\n"
     ]
    }
   ],
   "source": [
    "# Calculate change from month to month in Money List\n",
    "changeList = []\n",
    "for i in range (0, len(moneyList)-1):\n",
    "    change = moneyList[i+1] - moneyList[i]\n",
    "    changeList.append(change)\n",
    "print(changeList)"
   ]
  },
  {
   "cell_type": "code",
   "execution_count": 19,
   "metadata": {},
   "outputs": [
    {
     "data": {
      "text/plain": [
       "85"
      ]
     },
     "execution_count": 19,
     "metadata": {},
     "output_type": "execute_result"
    }
   ],
   "source": [
    "len(changeList)"
   ]
  },
  {
   "cell_type": "code",
   "execution_count": 23,
   "metadata": {},
   "outputs": [
    {
     "data": {
      "text/plain": [
       "-2315.12"
      ]
     },
     "execution_count": 23,
     "metadata": {},
     "output_type": "execute_result"
    }
   ],
   "source": [
    "# Calculate average change\n",
    "changeListAv = round(sum(changeList)/len(changeList),2)\n",
    "changeListAv"
   ]
  },
  {
   "cell_type": "code",
   "execution_count": 31,
   "metadata": {},
   "outputs": [],
   "source": [
    "# Calculate date associated with the maximum change\n",
    "for i in range(len(changeList)):\n",
    "    if (changeList[i] == max(changeList)):\n",
    "        maxchangedate = (dateList[i+1],max(changeList))\n",
    "greatestincrease = str(\"Greatest Increase in Profits: \" + str(maxchangedate))"
   ]
  },
  {
   "cell_type": "code",
   "execution_count": 25,
   "metadata": {},
   "outputs": [],
   "source": [
    "# Calculate datae associated with the minimum chanage\n",
    "for i in range(len(changeList)):\n",
    "    if (changeList[i] == min(changeList)):\n",
    "        minchangedate = (dateList[i+1],min(changeList))\n",
    "greatestdecrease = str(\"Greatest Decrease in Profits: \" + str(minchangedate))"
   ]
  },
  {
   "cell_type": "code",
   "execution_count": 26,
   "metadata": {},
   "outputs": [
    {
     "name": "stdout",
     "output_type": "stream",
     "text": [
      "Financial Analysis\n",
      "______________________________ \n",
      "\n",
      "Total Months: 86\n",
      "Total Net Profits & Losses: $38382578.00\n",
      "Average Change: $-2315.12\n",
      "Greatest Increase in Profits: ('Feb-2012', 1926159)\n",
      "Greatest Decrease in Profits: ('Sep-2013', -2196167)\n"
     ]
    }
   ],
   "source": [
    "# Print financial analysis\n",
    "print(f\"Financial Analysis\\n\"\n",
    "     \"______________________________ \\n\")\n",
    "print(\"Total Months: \" + str(totalmonths))\n",
    "print(\"Total Net Profits & Losses: \" + \"$\"+ str(nettotal)+\".00\")\n",
    "print(\"Average Change: \" + \"$\"+ str(changeListAv))\n",
    "print(greatestincrease)\n",
    "print(greatestdecrease)"
   ]
  },
  {
   "cell_type": "code",
   "execution_count": 28,
   "metadata": {},
   "outputs": [],
   "source": [
    "# Export financial analysis into txtfile\n",
    "with open(\"budget_data.txt\",\"w\", newline=\"\") as txtfile:\n",
    "    print(f\"Financial Analysis\\n\"\n",
    "     \"______________________________ \\n\",file = txtfile)\n",
    "    print(\"Total Months: \" + str(totalmonths),file = txtfile)\n",
    "    print(\"Total Net Profits & Losses: \" + \"$\"+ str(nettotal) +\".00\",file = txtfile)\n",
    "    print(\"Average Change: \" + \"$\"+ str(changeListAv),file = txtfile)\n",
    "    print(greatestincrease,file = txtfile)\n",
    "    print(greatestdecrease,file = txtfile)"
   ]
  },
  {
   "cell_type": "code",
   "execution_count": null,
   "metadata": {},
   "outputs": [],
   "source": []
  }
 ],
 "metadata": {
  "kernelspec": {
   "display_name": "Python 3",
   "language": "python",
   "name": "python3"
  },
  "language_info": {
   "codemirror_mode": {
    "name": "ipython",
    "version": 3
   },
   "file_extension": ".py",
   "mimetype": "text/x-python",
   "name": "python",
   "nbconvert_exporter": "python",
   "pygments_lexer": "ipython3",
   "version": "3.7.3"
  }
 },
 "nbformat": 4,
 "nbformat_minor": 2
}
